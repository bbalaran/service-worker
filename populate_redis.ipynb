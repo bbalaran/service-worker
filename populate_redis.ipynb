{
 "cells": [
  {
   "cell_type": "code",
   "execution_count": 50,
   "metadata": {
    "collapsed": true
   },
   "outputs": [],
   "source": [
    "import psycopg2\n",
    "import redis\n",
    "import logging"
   ]
  },
  {
   "cell_type": "code",
   "execution_count": 51,
   "metadata": {
    "collapsed": true
   },
   "outputs": [],
   "source": [
    "logging.basicConfig(level=logging.INFO)\n",
    "log = logging.getLogger('db_example')"
   ]
  },
  {
   "cell_type": "code",
   "execution_count": 41,
   "metadata": {
    "collapsed": true
   },
   "outputs": [],
   "source": [
    "lang_list = ['Python', 'JavaScript', 'R', 'Go']"
   ]
  },
  {
   "cell_type": "code",
   "execution_count": 56,
   "metadata": {
    "collapsed": false
   },
   "outputs": [],
   "source": [
    "try:\n",
    "    conn = psycopg2.connect(\"dbname='halcyon' user='postgres' host='localhost' password='hi'\")\n",
    "except:\n",
    "    print (\"I am unable to connect to the database\")\n",
    "    \n",
    "try:    \n",
    "    r = redis.StrictRedis(host='localhost', port=6379, db=0)\n",
    "except:\n",
    "    print (\"I am unable to connect to redis\")"
   ]
  },
  {
   "cell_type": "code",
   "execution_count": 57,
   "metadata": {
    "collapsed": true
   },
   "outputs": [],
   "source": [
    "cur = conn.cursor()"
   ]
  },
  {
   "cell_type": "code",
   "execution_count": 34,
   "metadata": {
    "collapsed": true
   },
   "outputs": [],
   "source": [
    "lang = \"Go\""
   ]
  },
  {
   "cell_type": "code",
   "execution_count": 35,
   "metadata": {
    "collapsed": false
   },
   "outputs": [],
   "source": [
    "cur.execute(  \n",
    "\"\"\"select repo_name, language, num_stars, stars, stars::real / ((num_stars::real+400)^(1.6) ) AS normalized_stars\n",
    "From \n",
    "(\n",
    "select repo_id, repo_name, language, num_stars, count(*) AS stars from halcyon.\"Test_Hourly_Watches\" \n",
    "Inner Join halcyon.\"Test_Repos\" On repo_id = id\n",
    "where num_stars > 0 \n",
    "group by repo_id, repo_name, language, num_stars order by num_stars desc\n",
    ") AS x \n",
    "where language Like '%s'\n",
    "order by normalized_stars desc\"\"\" %lang )"
   ]
  },
  {
   "cell_type": "code",
   "execution_count": 36,
   "metadata": {
    "collapsed": true
   },
   "outputs": [],
   "source": [
    "rows = cur.fetchall()"
   ]
  },
  {
   "cell_type": "code",
   "execution_count": 37,
   "metadata": {
    "collapsed": false
   },
   "outputs": [
    {
     "data": {
      "text/plain": [
       "[('intelsdi-x/snap', 'Go', 486, 227, 0.0043664842920849),\n",
       " ('nishanths/license', 'Go', 163, 109, 0.00433124814722894),\n",
       " ('mvdan/interfacer', 'Go', 94, 83, 0.00406550944259128),\n",
       " ('RobotsAndPencils/buford', 'Go', 131, 92, 0.00401454743320943),\n",
       " ('Netflix/rend', 'Go', 147, 93, 0.0038699310419301),\n",
       " ('golang-china/gopl-zh', 'Go', 403, 158, 0.00355723219689982),\n",
       " ('deferpanic/gorump', 'Go', 133, 75, 0.00325310236168567),\n",
       " ('mission-liao/dingo', 'Go', 58, 57, 0.00315130247730193),\n",
       " ('apex/apex', 'Go', 91, 63, 0.00311609121567257),\n",
       " ('ory-am/hydra', 'Go', 499, 161, 0.0030255920423495)]"
      ]
     },
     "execution_count": 37,
     "metadata": {},
     "output_type": "execute_result"
    }
   ],
   "source": [
    "rows[:10]"
   ]
  },
  {
   "cell_type": "markdown",
   "metadata": {},
   "source": [
    "### Insert into Redis"
   ]
  },
  {
   "cell_type": "markdown",
   "metadata": {},
   "source": [
    "#### Delete the set before updating keys"
   ]
  },
  {
   "cell_type": "code",
   "execution_count": 39,
   "metadata": {
    "collapsed": false
   },
   "outputs": [
    {
     "name": "stdout",
     "output_type": "stream",
     "text": [
      "    ('SpectoLabs/hoverfly', 'Go', 153, 71, 0.00290334161188488)\n",
      "    ('xenolf/lego', 'Go', 823, 237, 0.00272186145042855)\n",
      "    ('kulshekhar/fungen', 'Go', 56, 45, 0.00250535207491604)\n",
      "    ('raphael/goa', 'Go', 342, 95, 0.00242704236309749)\n",
      "    ('kobolog/gorb', 'Go', 280, 82, 0.00240879361907017)\n",
      "    ('goji/goji', 'Go', 47, 40, 0.00229915343103032)\n",
      "    ('kavehmz/queue', 'Go', 59, 41, 0.00225883006657422)\n",
      "    ('graphql-go/graphql', 'Go', 231, 66, 0.00218522902708545)\n",
      "    ('klauspost/asmfmt', 'Go', 48, 38, 0.00217640028557615)\n",
      "    ('vcrypt/vcrypt', 'Go', 48, 36, 0.00206185290212478)\n"
     ]
    },
    {
     "data": {
      "text/plain": [
       "[0, 1, 1, 1, 1, 1, 1, 1, 1, 1, 1]"
      ]
     },
     "execution_count": 39,
     "metadata": {},
     "output_type": "execute_result"
    }
   ],
   "source": [
    "pipe = r.pipeline() # pipelines buffer multiple commands to the server in a single request\n",
    "pipe.delete('%s:Weekly'%lang) # delete the set before updating the keys\n",
    "for row in rows[:10]:\n",
    "    print (\"   \", row)\n",
    "    pipe.zadd('%s:Weekly'%lang, row[4], row[0])\n",
    "\n",
    "pipe.execute()"
   ]
  },
  {
   "cell_type": "code",
   "execution_count": 43,
   "metadata": {
    "collapsed": false
   },
   "outputs": [
    {
     "name": "stdout",
     "output_type": "stream",
     "text": [
      "    ('conan-io/conan', 'Python', 198, 127, 0.0045822821457416)\n",
      "    ('OrkoHunter/ping-me', 'Python', 144, 99, 0.00415601355236504)\n",
      "    ('dlapiduz/letsencrypt-s3front', 'Python', 74, 69, 0.00361080257964819)\n",
      "    ('aantonop/wifiportal21', 'Python', 45, 57, 0.00329988525069339)\n",
      "    ('v1k45/django-notify-x', 'Python', 71, 62, 0.00327761726103564)\n",
      "    ('jmathai/elodie', 'Python', 162, 81, 0.00322780220525013)\n",
      "    ('zero-db/zerodb-server', 'Python', 109, 65, 0.00303504339439264)\n",
      "    ('RackHD/RackHD', 'Python', 79, 58, 0.00298463461904136)\n",
      "    ('asrivat1/DeepLearningVideoGames', 'Python', 158, 73, 0.00294244356388596)\n",
      "    ('arrayfire/arrayfire-python', 'Python', 116, 63, 0.00287806784141272)\n",
      "    ('vuejs/vuex', 'JavaScript', 381, 216, 0.00508407673641913)\n",
      "    ('trailsjs/trails', 'JavaScript', 191, 126, 0.00463266157935211)\n",
      "    ('yelouafi/redux-saga', 'JavaScript', 292, 161, 0.00459892285895504)\n",
      "    ('Microsoft/node', 'JavaScript', 75, 88, 0.00458957949692293)\n",
      "    ('justinfagnani/mixwith.js', 'JavaScript', 88, 83, 0.00414578119399083)\n",
      "    ('ritz078/embed.js', 'JavaScript', 452, 200, 0.00409568590973457)\n",
      "    ('mafintosh/hyperdrive', 'JavaScript', 183, 108, 0.0040583926976269)\n",
      "    ('codemix/babel-plugin-contracts', 'JavaScript', 21, 64, 0.00404882140821724)\n",
      "    ('WebAssembly/binaryen', 'JavaScript', 349, 159, 0.00400153127884679)\n",
      "    ('insin/nwb', 'JavaScript', 271, 131, 0.0039311106064869)\n",
      "    ('renkun-ken/formattable', 'R', 119, 23, 0.0010410223736342)\n",
      "    ('mikelove/tximport', 'R', 15, 15, 0.000970988987374717)\n",
      "    ('environmentalinformatics-marburg/mapview', 'R', 29, 13, 0.000798016157821136)\n",
      "    ('PMassicotte/gtrendsR', 'R', 19, 12, 0.000764960146106655)\n",
      "    ('sinhrks/ggfortify', 'R', 159, 18, 0.000723458481509254)\n",
      "    ('topepo/caret', 'R', 229, 20, 0.000665562681713201)\n",
      "    ('stattleship/stattleship-r', 'R', 7, 8, 0.000534243112886974)\n",
      "    ('christophergandrud/networkD3', 'R', 154, 12, 0.000489289191806066)\n",
      "    ('thk686/rgdal2', 'R', 11, 7, 0.000460204779765266)\n",
      "    ('qinwf/awesome-R', 'R', 1069, 49, 0.000419721490809048)\n",
      "    ('intelsdi-x/snap', 'Go', 486, 227, 0.0043664842920849)\n",
      "    ('nishanths/license', 'Go', 163, 109, 0.00433124814722894)\n",
      "    ('mvdan/interfacer', 'Go', 94, 83, 0.00406550944259128)\n",
      "    ('RobotsAndPencils/buford', 'Go', 131, 92, 0.00401454743320943)\n",
      "    ('Netflix/rend', 'Go', 147, 93, 0.0038699310419301)\n",
      "    ('golang-china/gopl-zh', 'Go', 403, 158, 0.00355723219689982)\n",
      "    ('deferpanic/gorump', 'Go', 133, 75, 0.00325310236168567)\n",
      "    ('mission-liao/dingo', 'Go', 58, 57, 0.00315130247730193)\n",
      "    ('apex/apex', 'Go', 91, 63, 0.00311609121567257)\n",
      "    ('ory-am/hydra', 'Go', 499, 161, 0.0030255920423495)\n"
     ]
    }
   ],
   "source": [
    "for lang in lang_list:\n",
    "    cur = conn.cursor()\n",
    "    cur.execute(  \n",
    "    \"\"\"select repo_name, language, num_stars, stars, stars::real / ((num_stars::real+400)^(1.6) ) AS normalized_stars\n",
    "    From \n",
    "    (\n",
    "    select repo_id, repo_name, language, num_stars, count(*) AS stars from halcyon.\"Test_Hourly_Watches\" \n",
    "    Inner Join halcyon.\"Test_Repos\" On repo_id = id\n",
    "    where num_stars > 0 \n",
    "    group by repo_id, repo_name, language, num_stars order by num_stars desc\n",
    "    ) AS x \n",
    "    where language Like '%s'\n",
    "    order by normalized_stars desc\"\"\" %lang )\n",
    "    rows_400_6 = cur.fetchall()\n",
    "    \n",
    "    pipe = r.pipeline() # pipelines buffer multiple commands to the server in a single request\n",
    "    pipe.delete('%s:curr_week'%lang) # delete the set before updating the keys\n",
    "    for row in rows_400_6[:10]:\n",
    "        print (\"   \", row)\n",
    "        pipe.zadd('%s:curr_week'%lang, row[4], row[0])\n",
    "\n",
    "    pipe.execute()"
   ]
  },
  {
   "cell_type": "markdown",
   "metadata": {},
   "source": [
    "### Populate Caches for each Language and Variable Combo "
   ]
  },
  {
   "cell_type": "code",
   "execution_count": 48,
   "metadata": {
    "collapsed": false
   },
   "outputs": [
    {
     "name": "stdout",
     "output_type": "stream",
     "text": [
      "400 6\n",
      "100 6\n",
      "400 8\n",
      "400 6\n",
      "100 6\n",
      "400 8\n",
      "400 6\n",
      "100 6\n",
      "400 8\n",
      "400 6\n",
      "100 6\n",
      "400 8\n"
     ]
    }
   ],
   "source": [
    "for lang in lang_list: \n",
    "    for base_stars, exponent in [[400, 6], [100, 6], [400, 8]]:\n",
    "        print('currently processing weekly for: ', base_stars, exponent)\n",
    "        pipe = r.pipeline()\n",
    "        # current week's\n",
    "        pipe.delete('%s:curr_week_%s_%s'%(lang, base_stars, exponent))\n",
    "        cur = conn.cursor()\n",
    "        cur.execute(  \n",
    "            \"\"\"select repo_name, language, num_stars, stars, stars::real / ((num_stars::real+%s)^(1.%s) ) AS normalized_stars\n",
    "            From \n",
    "            (\n",
    "                select repo_id, repo_name, language, num_stars, count(*) AS stars from halcyon.\"Test_Hourly_Watches\" \n",
    "                Inner Join halcyon.\"Test_Repos\" On repo_id = id\n",
    "                where num_stars > 0 \n",
    "                AND date > '2015-12-24'\n",
    "                AND date <=  '2015-12-31'\n",
    "                group by repo_id, repo_name, language, num_stars order by num_stars desc\n",
    "            ) AS x \n",
    "            where language Like '%s'\n",
    "            order by normalized_stars desc\"\"\" %(base_stars, exponent, lang) )\n",
    "        rows_curr = cur.fetchall()\n",
    "        for row in rows_curr[:10]:\n",
    "            pipe.zadd('%s:curr_week_%s_%s'%(lang, base_stars, exponent), row[4], row[0])\n",
    "        \n",
    "        # prev week's\n",
    "        pipe.delete('%s:prev_week_%s_%s'%(lang, base_stars, exponent))\n",
    "        cur = conn.cursor()\n",
    "        cur.execute(  \n",
    "            \"\"\"select repo_name, language, num_stars, stars, stars::real / ((num_stars::real+%s)^(1.%s) ) AS normalized_stars\n",
    "            From \n",
    "            (\n",
    "                select repo_id, repo_name, language, num_stars, count(*) AS stars from halcyon.\"Test_Hourly_Watches\" \n",
    "                Inner Join halcyon.\"Test_Repos\" On repo_id = id\n",
    "                where num_stars > 0 \n",
    "                AND date > '2015-12-17'\n",
    "                AND date <=  '2015-12-24'\n",
    "                group by repo_id, repo_name, language, num_stars order by num_stars desc\n",
    "            ) AS x \n",
    "            where language Like '%s'\n",
    "            order by normalized_stars desc\"\"\" %(base_stars, exponent, lang) )\n",
    "        rows_prev = cur.fetchall()\n",
    "        for row in rows_prev[:10]:\n",
    "            pipe.zadd('%s:prev_week_%s_%s'%(lang, base_stars, exponent), row[4], row[0])\n",
    "\n",
    "        pipe.execute()\n",
    "        "
   ]
  },
  {
   "cell_type": "code",
   "execution_count": 54,
   "metadata": {
    "collapsed": true
   },
   "outputs": [],
   "source": [
    "cur = conn.cursor()"
   ]
  },
  {
   "cell_type": "code",
   "execution_count": 58,
   "metadata": {
    "collapsed": false
   },
   "outputs": [
    {
     "name": "stdout",
     "output_type": "stream",
     "text": [
      "currently processing weekly for:  400 6\n",
      "currently processing weekly for:  100 6\n",
      "currently processing weekly for:  400 8\n",
      "currently processing weekly for:  400 6\n",
      "currently processing weekly for:  100 6\n",
      "currently processing weekly for:  400 8\n",
      "currently processing weekly for:  400 6\n",
      "currently processing weekly for:  100 6\n",
      "currently processing weekly for:  400 8\n",
      "currently processing weekly for:  400 6\n",
      "currently processing weekly for:  100 6\n",
      "currently processing weekly for:  400 8\n"
     ]
    }
   ],
   "source": [
    "for lang in lang_list: \n",
    "    for base_stars, exponent in [[400, 6], [100, 6], [400, 8]]:\n",
    "        print('currently processing ', lang, ' weekly for: ', base_stars, exponent)\n",
    "        pipe = r.pipeline()\n",
    "        # current week's\n",
    "        pipe.delete('%s:curr_week_%s_%s'%(lang, base_stars, exponent))\n",
    "        cur = conn.cursor()\n",
    "        cur.execute(  \n",
    "            \"\"\"select repo_name, language, num_stars, stars, stars::real / ((num_stars::real+%s)^(1.%s) ) AS normalized_stars\n",
    "            From \n",
    "            (\n",
    "                select repo_id, repo_name, language, num_stars, count(*) AS stars from halcyon.\"Test_Hourly_Watches\" \n",
    "                Inner Join halcyon.\"Test_Repos\" On repo_id = id\n",
    "                where num_stars > 0 \n",
    "                AND date > current_date - 47\n",
    "                AND date <=  current_date - 40\n",
    "                group by repo_id, repo_name, language, num_stars order by num_stars desc\n",
    "            ) AS x \n",
    "            where language Like '%s'\n",
    "            order by normalized_stars desc\"\"\" %(base_stars, exponent, lang) )\n",
    "        rows_curr = cur.fetchall()\n",
    "        for row in rows_curr[:10]:\n",
    "            pipe.zadd('%s:curr_week_%s_%s'%(lang, base_stars, exponent), row[4], row[0])\n",
    "        \n",
    "        # prev week's\n",
    "        pipe.delete('%s:prev_week_%s_%s'%(lang, base_stars, exponent))\n",
    "        cur = conn.cursor()\n",
    "        cur.execute(  \n",
    "            \"\"\"select repo_name, language, num_stars, stars, stars::real / ((num_stars::real+%s)^(1.%s) ) AS normalized_stars\n",
    "            From \n",
    "            (\n",
    "                select repo_id, repo_name, language, num_stars, count(*) AS stars from halcyon.\"Test_Hourly_Watches\" \n",
    "                Inner Join halcyon.\"Test_Repos\" On repo_id = id\n",
    "                where num_stars > 0 \n",
    "                AND date > current_date - 54\n",
    "                AND date <=  current_date - 47\n",
    "                group by repo_id, repo_name, language, num_stars order by num_stars desc\n",
    "            ) AS x \n",
    "            where language Like '%s'\n",
    "            order by normalized_stars desc\"\"\" %(base_stars, exponent, lang) )\n",
    "        rows_prev = cur.fetchall()\n",
    "        for row in rows_prev[:10]:\n",
    "            pipe.zadd('%s:prev_week_%s_%s'%(lang, base_stars, exponent), row[4], row[0])\n",
    "\n",
    "        pipe.execute()\n",
    "        "
   ]
  },
  {
   "cell_type": "code",
   "execution_count": null,
   "metadata": {
    "collapsed": true
   },
   "outputs": [],
   "source": []
  }
 ],
 "metadata": {
  "kernelspec": {
   "display_name": "Python 3",
   "language": "python",
   "name": "python3"
  },
  "language_info": {
   "codemirror_mode": {
    "name": "ipython",
    "version": 3
   },
   "file_extension": ".py",
   "mimetype": "text/x-python",
   "name": "python",
   "nbconvert_exporter": "python",
   "pygments_lexer": "ipython3",
   "version": "3.5.0"
  }
 },
 "nbformat": 4,
 "nbformat_minor": 0
}
